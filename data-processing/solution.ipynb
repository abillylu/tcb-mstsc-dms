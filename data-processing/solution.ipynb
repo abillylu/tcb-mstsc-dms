{
 "cells": [
  {
   "cell_type": "code",
   "execution_count": 17,
   "metadata": {},
   "outputs": [],
   "source": [
    "#IMPORTS\n",
    "import shutil\n",
    "import os\n",
    "import pandas as pd\n",
    "import numpy as np\n",
    "import datetime\n",
    "import itertools\n",
    "import re\n",
    "from dotenv import load_dotenv, dotenv_values\n",
    "import json"
   ]
  },
  {
   "cell_type": "code",
   "execution_count": 18,
   "metadata": {},
   "outputs": [
    {
     "data": {
      "text/plain": [
       "'D://THOR CUSTOMS BROKERAGE 3'"
      ]
     },
     "execution_count": 18,
     "metadata": {},
     "output_type": "execute_result"
    }
   ],
   "source": [
    "#DOTENV\n",
    "load_dotenv()\n",
    "config = dotenv_values('.env')\n",
    "config[\"WORKING_DIRECTORY\"]"
   ]
  },
  {
   "cell_type": "code",
   "execution_count": 19,
   "metadata": {},
   "outputs": [],
   "source": [
    "#IMPORTANT CONSTANTS\n",
    "YEARS = [\"2025\", \"2024\", \"2023\", \"2022\", \"2021\", \"2020\"]\n",
    "MONTHS = [\n",
    "    {\"month\": \"January\", \"number\": \"01\"}, \n",
    "    {\"month\": \"February\", \"number\": \"02\"}, \n",
    "    {\"month\": \"March\", \"number\": \"03\"}, \n",
    "    {\"month\": \"April\", \"number\": \"04\"}, \n",
    "    {\"month\": \"May\", \"number\": \"05\"}, \n",
    "    {\"month\": \"June\", \"number\": \"06\"}, \n",
    "    {\"month\": \"July\", \"number\": \"07\"}, \n",
    "    {\"month\": \"August\", \"number\": \"08\"}, \n",
    "    {\"month\": \"September\", \"number\": \"09\"}, \n",
    "    {\"month\": \"October\", \"number\": \"10\"}, \n",
    "    {\"month\": \"November\", \"number\": \"11\"}, \n",
    "    {\"month\": \"December\", \"number\": \"12\"}\n",
    "]"
   ]
  },
  {
   "cell_type": "code",
   "execution_count": null,
   "metadata": {},
   "outputs": [],
   "source": [
    "#CREATE THE FILE STRUCTURE\n",
    "def createSolutionStructure():\n",
    "\n",
    "    solutionFolders = [config[\"EXCEL_SOLUTION_PATH\"], config[\"PDF_SOLUTION_PATH\"]]\n",
    "\n",
    "    if not os.path.exists(config[\"SOLUTION_PATH\"]):\n",
    "        os.mkdir(config[\"SOLUTION_PATH\"])\n",
    "        os.mkdir(config[\"EXCEL_SOLUTION_PATH\"])\n",
    "        os.mkdir(config[\"PDF_SOLUTION_PATH\"])\n",
    "        for solutionFolder in solutionFolders:\n",
    "            print(solutionFolder)\n",
    "            for year in YEARS:\n",
    "                YEAR_PATH = f\"{solutionFolder + \"/\" + str(year)}\"\n",
    "                os.mkdir(YEAR_PATH)\n",
    "                for month in MONTHS:\n",
    "                    MONTH_PATH = f\"{YEAR_PATH + \"/\" + month[\"number\"] + \"-\" + month[\"month\"]}\"\n",
    "                    os.mkdir(MONTH_PATH)\n",
    "            if \"PDF\" in solutionFolder:\n",
    "                os.mkdir(f\"{config[\"PDF_SOLUTION_PATH\"] + \"/\" + \"Unknown\"}\")\n",
    "\n",
    "createSolutionStructure()"
   ]
  },
  {
   "cell_type": "code",
   "execution_count": 27,
   "metadata": {},
   "outputs": [],
   "source": [
    "def createBacklogFile(backlog):\n",
    "    with open('backlogs.json', 'w', encoding='utf-8') as f:\n",
    "        json.dump(backlog, f, ensure_ascii=False, indent=4)\n",
    "    print(backlog)"
   ]
  },
  {
   "cell_type": "code",
   "execution_count": null,
   "metadata": {},
   "outputs": [],
   "source": [
    "#RENAME EXCEL FILES AND ADD THESE FILES TO THEIR RESPECTIVE FOLDERS\n",
    "monthCounts = {\n",
    "    \"January\": 0, \n",
    "    \"February\": 1, \n",
    "    \"March\": 2, \n",
    "    \"April\": 3, \n",
    "    \"May\": 4, \n",
    "    \"June\": 5, \n",
    "    \"July\": 6, \n",
    "    \"August\": 7, \n",
    "    \"September\": 8, \n",
    "    \"October\": 9, \n",
    "    \"November\": 10, \n",
    "    \"December\": 11\n",
    "}\n",
    "\n",
    "excelFiles = os.listdir(config[\"EXCEL_FILE_PATH\"])\n",
    "\n",
    "def processExcelFiles():\n",
    "    jsonFile = {\n",
    "        \"billingStatements\": []\n",
    "    }\n",
    "\n",
    "    for excelFile in excelFiles:\n",
    "\n",
    "\n",
    "        df = pd.read_excel(config[\"EXCEL_FILE_PATH\"] + \"/\" + excelFile).replace(\"NAN\", \"1\")\n",
    "        containers = []\n",
    "        month = year = None\n",
    "        path = config[\"EXCEL_FILE_PATH\"] + \"/\" + excelFile\n",
    "        soaNumber = \"\"\n",
    "        prevCell = \"\"\n",
    "\n",
    "        for col in df:\n",
    "            for cell in df[col]:\n",
    "\n",
    "                if prevCell == \"SOA\":\n",
    "                    soaNumber = str(cell)\n",
    "                    prevCell = \"\"\n",
    "\n",
    "                if pd.isna(cell) or isinstance(cell, datetime.datetime) or isinstance(cell, int) or isinstance(cell, float):\n",
    "                    continue\n",
    "\n",
    "                if ((len(cell) == 11 and cell.isalnum()) or (len(cell) == 13 and \"-\" in cell) or (len(cell) == 12 and \"-\" in cell) or \"STRIPPING\" in cell):\n",
    "\n",
    "                    container1 = cell\n",
    "                    if \"-\" in container1:\n",
    "                        container1 = container1.replace(\"-\", \"\")\n",
    "\n",
    "                    containers.append(container1)\n",
    "                \n",
    "                if \"date:\" in cell.lower():\n",
    "                    dateString = re.findall(r'[a-zA-Z]+|\\d{4}', cell)\n",
    "                    month = dateString[1].capitalize()\n",
    "\n",
    "                    if month == \"Febuary\":\n",
    "                        month = \"February\"\n",
    "\n",
    "                    try:\n",
    "                        year = dateString[2]\n",
    "                    except:\n",
    "                        year = \"2023\"\n",
    "\n",
    "                    if month == \"Paril\":\n",
    "                        month = \"April\"\n",
    "                    if year == \"220\":\n",
    "                        year = \"2020\"\n",
    "                    if year == \"221\":\n",
    "                        year = \"2021\"\n",
    "                    if year == \"222\":\n",
    "                        year = \"2022\"\n",
    "                    if year == \"223\":\n",
    "                        year = \"2023\"\n",
    "                    if year == \"224\":\n",
    "                        year = \"2024\"\n",
    "                    if year == \"225\":\n",
    "                        year = \"2025\"\n",
    "\n",
    "                if cell == \"SOA\":\n",
    "                    prevCell = \"SOA\"\n",
    "\n",
    "        if soaNumber == \"nan\":\n",
    "            soaNumber = \"637\"\n",
    "\n",
    "        excelFilename = excelFile.split(\".\")[0]\n",
    "        excelFilenameCopy = excelFilename\n",
    "        bsNumber = excelFilenameCopy.split(\" \")[0]\n",
    "        \n",
    "        excelFilename += \" \"\n",
    "        excelFilename += str(soaNumber)\n",
    "        \n",
    "        excelFilename += \".xlsx\"\n",
    "\n",
    "        information = dict(\n",
    "            fileName = excelFile, \n",
    "            bsNumber = bsNumber,\n",
    "            soaNumber = soaNumber,\n",
    "            year = year, \n",
    "            month = month, \n",
    "            containers = containers, \n",
    "            excelPath = [\"STRUCTURED\", \"FILES\", year, MONTHS[monthCounts[month]][\"number\"] + \"-\" + month, bsNumber],\n",
    "            associatedPdfs = []\n",
    "        )\n",
    "\n",
    "        jsonFile[\"billingStatements\"].append(information)\n",
    "\n",
    "        bsNumberPath = f\"{config[\"EXCEL_SOLUTION_PATH\"] + \"/\" + year + \"/\" + MONTHS[monthCounts[month]][\"number\"] + \"-\" + month + \"/\" + bsNumber}\"\n",
    "\n",
    "        if not os.path.isdir(bsNumberPath):\n",
    "            os.mkdir(bsNumberPath)\n",
    "        shutil.copy(config[\"EXCEL_FILE_PATH\"] + \"/\" + excelFile, config[\"EXCEL_SOLUTION_PATH\"] + \"/\" + year +  \"/\" + MONTHS[monthCounts[month]][\"number\"] + \"-\" + month + \"/\" + bsNumber + \"/\" + excelFilename)\n",
    "\n",
    "    return jsonFile\n",
    "\n",
    "jsonData = processExcelFiles()"
   ]
  },
  {
   "cell_type": "code",
   "execution_count": null,
   "metadata": {},
   "outputs": [],
   "source": [
    "createBacklogFile(jsonData)"
   ]
  },
  {
   "cell_type": "code",
   "execution_count": 29,
   "metadata": {},
   "outputs": [],
   "source": [
    "def find(lst, key, value):\n",
    "    for i, dic in enumerate(lst):\n",
    "        if value == dic[key]:\n",
    "            return i\n",
    "    return None"
   ]
  },
  {
   "cell_type": "code",
   "execution_count": null,
   "metadata": {},
   "outputs": [],
   "source": [
    "#ADD ASSOCIATED PDFS\n",
    "pdfFiles = os.listdir(config[\"PDF_FILE_PATH\"])\n",
    "pdfFilesCopy = os.listdir(config[\"PDF_FILE_PATH\"])\n",
    "pdfFilesWithMatch = []\n",
    "\n",
    "numberOfPdfsAttached = 0\n",
    "xlsxExtensionLength = 5\n",
    "pdfExtensionLength = 4\n",
    "\n",
    "print(pdfFiles)\n",
    "for year in YEARS:\n",
    "    for month in MONTHS:\n",
    "        folders = os.listdir(config[\"EXCEL_SOLUTION_PATH\"] + \"/\" + year + \"/\" + month[\"number\"] + \"-\" + month[\"month\"])\n",
    "        for folder in folders:\n",
    "            excelFiles = os.listdir(config[\"EXCEL_SOLUTION_PATH\"] + \"/\" + year + \"/\" + month[\"number\"] + \"-\" + month[\"month\"] + \"/\" + folder)\n",
    "            for excelFile in excelFiles:\n",
    "\n",
    "                matchingPdfs = [] \n",
    "\n",
    "                excelFilename = excelFile[:-xlsxExtensionLength]\n",
    "\n",
    "                excelParts = excelFilename.split(\" \")\n",
    "\n",
    "                excelBSNumber = excelParts[0]\n",
    "                excelSOANumber = excelParts[-1]\n",
    "\n",
    "                specialCase = False\n",
    "\n",
    "                for pdfFile in pdfFiles:\n",
    "\n",
    "                    pdfFilename = pdfFile[:-pdfExtensionLength]\n",
    "                    pdfParts = pdfFilename.split(\" \")\n",
    "\n",
    "                    pdfBSNumber = pdfParts[0]\n",
    "                    pdfSOANumber = pdfParts[-1]\n",
    "\n",
    "                    if pdfBSNumber == excelBSNumber:\n",
    "                        matchingPdfs.append(pdfFile)\n",
    "                        pdfFilesWithMatch.append(pdfFile)\n",
    "                        numberOfPdfsAttached = numberOfPdfsAttached + 1\n",
    "\n",
    "                if len(matchingPdfs) > 0:\n",
    "                    ndx = find(jsonData[\"billingStatements\"], \"bsNumber\", excelBSNumber)\n",
    "                    if ndx is not None:\n",
    "                        jsonData[\"billingStatements\"][ndx][\"associatedPdfs\"] = matchingPdfs.copy()\n",
    "                    for matchingPdf in matchingPdfs:\n",
    "                        print(matchingPdf)\n",
    "                        shutil.copy(config[\"PDF_FILE_PATH\"] + \"/\" + matchingPdf, config[\"EXCEL_SOLUTION_PATH\"] + \"/\" + year + \"/\" + month[\"number\"] + \"-\" + month[\"month\"] + \"/\" + folder + \"/\" + matchingPdf)\n",
    "                        \n",
    "pdfFilesNoMatch = [pdf for pdf in pdfFilesCopy if pdf not in pdfFilesWithMatch]"
   ]
  },
  {
   "cell_type": "code",
   "execution_count": null,
   "metadata": {},
   "outputs": [],
   "source": [
    "createBacklogFile(jsonData)"
   ]
  },
  {
   "cell_type": "code",
   "execution_count": 32,
   "metadata": {},
   "outputs": [
    {
     "name": "stdout",
     "output_type": "stream",
     "text": [
      "[]\n"
     ]
    }
   ],
   "source": [
    "print(pdfFilesNoMatch)"
   ]
  },
  {
   "cell_type": "code",
   "execution_count": 33,
   "metadata": {},
   "outputs": [
    {
     "name": "stdout",
     "output_type": "stream",
     "text": [
      "2284\n"
     ]
    }
   ],
   "source": [
    "print(numberOfPdfsAttached)"
   ]
  },
  {
   "cell_type": "code",
   "execution_count": 34,
   "metadata": {},
   "outputs": [],
   "source": [
    "pdfFiles = os.listdir(config[\"PDF_FILE_PATH\"])\n",
    "pdfFilesCopy = os.listdir(config[\"PDF_FILE_PATH\"])\n",
    "pdfFilesWithMatch = []\n",
    "\n",
    "numberOfPdfsAttached = 0\n",
    "\n",
    "for year in YEARS:\n",
    "    for month in MONTHS:\n",
    "        excelFiles = os.listdir(config[\"EXCEL_SOLUTION_PATH\"] + \"/\" + year + \"/\" + month[\"number\"] + \"-\" + month[\"month\"])\n",
    "        for excelFile in excelFiles:\n",
    "\n",
    "            excelFileParts = excelFile.split()\n",
    "            excelFilePartOne = excelFile.split(\".\")[0]\n",
    "\n",
    "            newParts = excelFile.split(\".\")\n",
    "\n",
    "            excelSoaNumber = excelFile.split()[-1].replace('.xlsx', '')\n",
    "\n",
    "            code = excelFileParts[0]\n",
    "            originalCode = excelFileParts[0]\n",
    "\n",
    "            if \"MSTSC\" in code:\n",
    "                code = code.replace(\"MSTSCIN\", \"MSTCIN\")\n",
    "\n",
    "            matchingPdfs = [] \n",
    "\n",
    "            for pdfFile in pdfFiles:\n",
    "                parts = pdfFile.split(\".\")[0].split(\" \")\n",
    "\n",
    "                exists = False\n",
    "                for part in parts:\n",
    "                    if excelSoaNumber == part:\n",
    "                        exists = True\n",
    "                        break\n",
    "                if exists == True:\n",
    "                    matchingPdfs.append(pdfFile)\n",
    "                    pdfFilesWithMatch.append(pdfFile)\n",
    "                    numberOfPdfsAttached = numberOfPdfsAttached + 1\n",
    "\n",
    "            excelName = excelFile.replace(\".xlsx\", \"\").split()\n",
    "\n",
    "            if len(matchingPdfs) > 0:\n",
    "                ndx = find(jsonData[\"billingStatements\"], \"soaNumber\", excelSoaNumber)\n",
    "                if ndx is not None:\n",
    "                    jsonData[\"billingStatements\"][ndx][\"associatedPdfs\"] = matchingPdfs.copy()\n",
    "\n",
    "            for matchingPdf in matchingPdfs:\n",
    "                pdfFilename = matchingPdf.split(\".\")[0] + \".pdf\"\n",
    "                shutil.copy(config[\"PDF_FILE_PATH\"] + \"/\" + matchingPdf, config[\"PDF_SOLUTION_PATH\"] + \"/\" + year + \"/\" + month[\"number\"] + \"-\" + month[\"month\"] + \"/\" + pdfFilename)\n",
    "\n",
    "            pdfFiles = [pdf for pdf in pdfFiles if pdf not in matchingPdfs]\n",
    "\n",
    "pdfFilesNoMatch = [pdf for pdf in pdfFilesCopy if pdf not in pdfFilesWithMatch]\n",
    "\n",
    "for pdfFile in pdfFilesNoMatch:\n",
    "    shutil.copy(config[\"PDF_FILE_PATH\"] + \"/\" + pdfFile, config[\"PDF_SOLUTION_PATH\"] + \"/\" + \"Unknown\" + \"/\" + pdfFile)"
   ]
  },
  {
   "cell_type": "code",
   "execution_count": null,
   "metadata": {},
   "outputs": [],
   "source": [
    "createBacklogFile(jsonData)"
   ]
  },
  {
   "cell_type": "code",
   "execution_count": null,
   "metadata": {},
   "outputs": [
    {
     "data": {
      "text/plain": [
       "851"
      ]
     },
     "execution_count": 36,
     "metadata": {},
     "output_type": "execute_result"
    }
   ],
   "source": [
    "numberOfPdfsAttached\n",
    "#######################################################"
   ]
  },
  {
   "cell_type": "code",
   "execution_count": null,
   "metadata": {},
   "outputs": [],
   "source": [
    "with open('backlogs.json', 'w', encoding='utf-8') as f:\n",
    "    json.dump(jsonData, f, ensure_ascii=False, indent=4)\n",
    "print(jsonData)"
   ]
  }
 ],
 "metadata": {
  "kernelspec": {
   "display_name": "env",
   "language": "python",
   "name": "python3"
  },
  "language_info": {
   "codemirror_mode": {
    "name": "ipython",
    "version": 3
   },
   "file_extension": ".py",
   "mimetype": "text/x-python",
   "name": "python",
   "nbconvert_exporter": "python",
   "pygments_lexer": "ipython3",
   "version": "3.13.4"
  }
 },
 "nbformat": 4,
 "nbformat_minor": 2
}
